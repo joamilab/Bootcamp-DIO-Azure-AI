{
  "nbformat": 4,
  "nbformat_minor": 0,
  "metadata": {
    "colab": {
      "provenance": [],
      "authorship_tag": "ABX9TyNzJBMLfhgg/Px6aMHUn/ev",
      "include_colab_link": true
    },
    "kernelspec": {
      "name": "python3",
      "display_name": "Python 3"
    },
    "language_info": {
      "name": "python"
    }
  },
  "cells": [
    {
      "cell_type": "markdown",
      "metadata": {
        "id": "view-in-github",
        "colab_type": "text"
      },
      "source": [
        "<a href=\"https://colab.research.google.com/github/joamilab/Bootcamp-DIO-Azure-AI/blob/main/Bootcamp_DIO_Azure_Tradutor_de_Documentos.ipynb\" target=\"_parent\"><img src=\"https://colab.research.google.com/assets/colab-badge.svg\" alt=\"Open In Colab\"/></a>"
      ]
    },
    {
      "cell_type": "markdown",
      "source": [
        "# Tradutor de documentos PT-BR para EN\n",
        "\n",
        "Tradutor de documentos no formato .docx do português brasileiro para o inglês.\n",
        "\n",
        "Tradução realizada com o serviço de tradução do Azure AI Services."
      ],
      "metadata": {
        "id": "sGRBUy7kRjnl"
      }
    },
    {
      "cell_type": "code",
      "source": [
        "! pip install python-docx"
      ],
      "metadata": {
        "colab": {
          "base_uri": "https://localhost:8080/"
        },
        "collapsed": true,
        "id": "U2LQLTm0B9dy",
        "outputId": "84efcc36-f6f4-4ea3-c33e-355a4da510f4"
      },
      "execution_count": 1,
      "outputs": [
        {
          "output_type": "stream",
          "name": "stdout",
          "text": [
            "Requirement already satisfied: python-docx in /usr/local/lib/python3.10/dist-packages (1.1.2)\n",
            "Requirement already satisfied: lxml>=3.1.0 in /usr/local/lib/python3.10/dist-packages (from python-docx) (5.3.0)\n",
            "Requirement already satisfied: typing-extensions>=4.9.0 in /usr/local/lib/python3.10/dist-packages (from python-docx) (4.12.2)\n"
          ]
        }
      ]
    },
    {
      "cell_type": "code",
      "execution_count": 2,
      "metadata": {
        "id": "cTny4D0o-eaJ"
      },
      "outputs": [],
      "source": [
        "import requests\n",
        "import os\n",
        "import json\n",
        "from docx import Document"
      ]
    },
    {
      "cell_type": "code",
      "source": [
        "key = 'YOUR-KEY'\n",
        "endpoint_text = 'ENDPOINT-TEXT'\n",
        "endpoint_document = 'ENDPOINT-DOCUMENT'\n",
        "location = 'SERVICES-LOCATION'"
      ],
      "metadata": {
        "id": "X8i1-yMm-v_C"
      },
      "execution_count": 3,
      "outputs": []
    },
    {
      "cell_type": "code",
      "source": [
        "original_lang = 'pt-br'\n",
        "target_lang = 'en'"
      ],
      "metadata": {
        "id": "-zZaCmbiCjjQ"
      },
      "execution_count": 4,
      "outputs": []
    },
    {
      "cell_type": "code",
      "source": [
        "def translate_text(text, target_language):\n",
        "  '''\n",
        "    Translates text into the target language with the translator Azure AI Service.\n",
        "\n",
        "    Parameters:\n",
        "      text (str): The text to be translated.\n",
        "      target_language (str): The target language.\n",
        "\n",
        "    Returns:\n",
        "      str: The translated text.\n",
        "  '''\n",
        "\n",
        "  path = '/translate'\n",
        "  constructed_url = endpoint_text + path\n",
        "\n",
        "  headers = {\n",
        "      'Ocp-Apim-Subscription-Key': key,\n",
        "      'Ocp-Apim-Subscription-Region': location,\n",
        "      'Content-type': 'application/json',\n",
        "      'X-ClientTraceId': str(os.urandom(16))\n",
        "  }\n",
        "\n",
        "  body = [{\n",
        "      'text': text\n",
        "  }]\n",
        "  params = {\n",
        "      'api-version': '3.0',\n",
        "      'from': original_lang,\n",
        "      'to': [target_language]\n",
        "  }\n",
        "  request = requests.post(constructed_url, params=params, headers=headers, json=body)\n",
        "  response = request.json()\n",
        "\n",
        "  return response[0]['translations'][0]['text']"
      ],
      "metadata": {
        "id": "YsKdUhRc-qZz"
      },
      "execution_count": 5,
      "outputs": []
    },
    {
      "cell_type": "code",
      "source": [
        "def translate_document(path):\n",
        "  '''\n",
        "    Translates a document with the translator Azure AI Service.\n",
        "\n",
        "    Parameters:\n",
        "      path (str): The path to the document.\n",
        "\n",
        "    Returns:\n",
        "      Document: The translated document.\n",
        "  '''\n",
        "  document = Document(path)\n",
        "\n",
        "  full_text = []\n",
        "  for paragraph in document.paragraphs:\n",
        "    translated_paragraph = translate_text(paragraph.text, target_lang)\n",
        "    full_text.append(translated_paragraph)\n",
        "\n",
        "  translated_doc = Document()\n",
        "  for line in full_text:\n",
        "    translated_doc.add_paragraph(line)\n",
        "\n",
        "  path_translated = path.replace('.docx', f'_{target_lang}.docx')\n",
        "  translated_doc.save(path_translated)\n",
        "\n",
        "  return translated_doc"
      ],
      "metadata": {
        "id": "zcaf0PSpAK-c"
      },
      "execution_count": 6,
      "outputs": []
    },
    {
      "cell_type": "markdown",
      "source": [
        "### Teste da função de tradução de texto"
      ],
      "metadata": {
        "id": "zhsHLNAjSvdY"
      }
    },
    {
      "cell_type": "code",
      "source": [
        "def test_translate_text(text_original, text_translated, target_language):\n",
        "  '''\n",
        "    Tests the translate_text function.\n",
        "\n",
        "    Parameters:\n",
        "      text_original (str): The original text.\n",
        "      text_translated (str): The translated text.\n",
        "      target_language (str): The target language.\n",
        "\n",
        "    Returns:\n",
        "      boolean: The result of the test.\n",
        "  '''\n",
        "\n",
        "  translated = translate_text(text_original, target_language)\n",
        "\n",
        "  if translated == text_translated:\n",
        "    print('Test passed!')\n",
        "    print(translated)\n",
        "    return True\n",
        "  else:\n",
        "    print('Test failed!')\n",
        "    return False"
      ],
      "metadata": {
        "id": "pYEkkSjrHwpg"
      },
      "execution_count": 7,
      "outputs": []
    },
    {
      "cell_type": "code",
      "source": [
        "text_original_test = 'Ser ou não ser. Eis a questão.'\n",
        "text_translated_test = 'To be or not to be. That is the question.'\n",
        "\n",
        "test_translate_text(text_original_test, text_translated_test, target_lang)"
      ],
      "metadata": {
        "colab": {
          "base_uri": "https://localhost:8080/"
        },
        "id": "xXpPvEDZOEWQ",
        "outputId": "c67a8bc2-2965-4eb2-e2ea-c30380fbf43a"
      },
      "execution_count": 8,
      "outputs": [
        {
          "output_type": "stream",
          "name": "stdout",
          "text": [
            "Test passed!\n",
            "To be or not to be. That is the question.\n"
          ]
        },
        {
          "output_type": "execute_result",
          "data": {
            "text/plain": [
              "True"
            ]
          },
          "metadata": {},
          "execution_count": 8
        }
      ]
    },
    {
      "cell_type": "markdown",
      "source": [
        "### Testa a função de tradução de documento"
      ],
      "metadata": {
        "id": "6KRnXTsiTNPA"
      }
    },
    {
      "cell_type": "code",
      "source": [
        "def test_translate_document(path):\n",
        "  '''\n",
        "    Tests the translate_document function.\n",
        "\n",
        "    Parameters:\n",
        "      path (str): The path to the document.\n",
        "\n",
        "    Returns:\n",
        "      boolean: The result of the test.\n",
        "  '''\n",
        "\n",
        "  translated = translate_document(path)\n",
        "\n",
        "  if translated:\n",
        "    print('Test passed!')\n",
        "    return True\n",
        "  else:\n",
        "    print('Test failed!')\n",
        "    return False"
      ],
      "metadata": {
        "id": "D2TZIpS4Tcy5"
      },
      "execution_count": 9,
      "outputs": []
    },
    {
      "cell_type": "code",
      "source": [
        "document_original = '/content/artigo-ciencia-dados.docx'\n",
        "test_translate_document(document_original)"
      ],
      "metadata": {
        "colab": {
          "base_uri": "https://localhost:8080/"
        },
        "id": "JeXtZCCRUHV2",
        "outputId": "33cdb02b-8f26-4a71-97ac-d2c7355a3f9f"
      },
      "execution_count": 10,
      "outputs": [
        {
          "output_type": "stream",
          "name": "stdout",
          "text": [
            "Test passed!\n"
          ]
        },
        {
          "output_type": "execute_result",
          "data": {
            "text/plain": [
              "True"
            ]
          },
          "metadata": {},
          "execution_count": 10
        }
      ]
    }
  ]
}